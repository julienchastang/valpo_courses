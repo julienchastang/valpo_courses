{
 "cells": [
  {
   "cell_type": "markdown",
   "metadata": {},
   "source": [
    "# MetPy Calculations"
   ]
  },
  {
   "cell_type": "code",
   "execution_count": null,
   "metadata": {},
   "outputs": [],
   "source": [
    "from datetime import datetime, timedelta\n",
    "\n",
    "import metpy.calc as mpcalc\n",
    "from metpy.plots.declarative import *\n",
    "from metpy.units import units\n",
    "import xarray as xr"
   ]
  },
  {
   "cell_type": "code",
   "execution_count": null,
   "metadata": {},
   "outputs": [],
   "source": [
    "# Set the date/time of the model run\n",
    "date = datetime(2020, 2, 28, 0)\n",
    "\n",
    "# Remote access to the dataset from the UCAR site\n",
    "ds = xr.open_dataset('https://thredds.ucar.edu/thredds/dodsC/grib'\n",
    "                     f'/NCEP/GFS/Global_onedeg/GFS_Global_onedeg_{date:%Y%m%d}_{date:%H%M}.grib2')\n",
    "\n",
    "# Set the plot time with forecast hours\n",
    "plot_time = date + timedelta(hours=0)\n",
    "\n",
    "# Subset data to be just over the U.S. for plotting purposes and for the plot_time\n",
    "ds = ds.metpy.sel(time=plot_time, lat=slice(70,10), lon=slice(360-150, 360-55))"
   ]
  },
  {
   "cell_type": "markdown",
   "metadata": {},
   "source": [
    "## A Simple Calculation\n",
    "\n",
    "1000-500-hPa Thickness = (Heights at 500 hPa) - (Heights at 1000 hPa)\n",
    "\n",
    "Easy to do subtraction with a data array and store it directly back into the dataset (ds).\n",
    "                   "
   ]
  },
  {
   "cell_type": "code",
   "execution_count": null,
   "metadata": {},
   "outputs": [],
   "source": [
    "ds['thickness'] = (ds.Geopotential_height_isobaric.metpy.sel(vertical=500 * units.hPa)\n",
    "                   - ds.Geopotential_height_isobaric.metpy.sel(vertical=1000 * units.hPa))"
   ]
  },
  {
   "cell_type": "code",
   "execution_count": null,
   "metadata": {},
   "outputs": [],
   "source": [
    "# Set attributes for plotting contours\n",
    "cntr = ContourPlot()\n",
    "cntr.data = ds\n",
    "cntr.field = 'thickness'\n",
    "cntr.level = None\n",
    "cntr.time = None\n",
    "cntr.contours = list(range(0, 10000, 60))\n",
    "cntr.linecolor = 'red'\n",
    "cntr.linestyle = 'dashed'\n",
    "cntr.clabels = True\n",
    "\n",
    "cntr2 = ContourPlot()\n",
    "cntr2.data = ds\n",
    "cntr2.field = 'Geopotential_height_isobaric'\n",
    "cntr2.level = 500 * units.hPa\n",
    "cntr2.time = None\n",
    "cntr2.contours = list(range(0, 10000, 60))\n",
    "cntr2.linecolor = 'black'\n",
    "cntr2.linestyle = 'solid'\n",
    "cntr2.clabels = True\n",
    "\n",
    "# Set the attributes for the map\n",
    "# and put the contours on the map\n",
    "panel = MapPanel()\n",
    "panel.area = [-125, -74, 20, 55]\n",
    "panel.projection = 'lcc'\n",
    "panel.layers = ['states', 'coastline', 'borders']\n",
    "panel.title = f'1000-500-hPa Thickness at {plot_time} by KHG'\n",
    "panel.plots = [cntr, cntr2]\n",
    "\n",
    "# Set the attributes for the panel\n",
    "# and put the panel in the figure\n",
    "pc = PanelContainer()\n",
    "pc.size = (15, 15)\n",
    "pc.panels = [panel]\n",
    "\n",
    "# Show the figure\n",
    "pc.show()"
   ]
  },
  {
   "cell_type": "markdown",
   "metadata": {},
   "source": [
    "## A Second Simple Calculation\n",
    "\n",
    "Scaling Absolute Vorticity\n",
    "\n",
    "Since vorticity values are on the order of 10^-5 we want to scale them to fit common contouring values of whole numbers."
   ]
  },
  {
   "cell_type": "code",
   "execution_count": null,
   "metadata": {},
   "outputs": [],
   "source": [
    "ds['Absolute_vorticity_isobaric'] = ds.Absolute_vorticity_isobaric * 1e5"
   ]
  },
  {
   "cell_type": "code",
   "execution_count": null,
   "metadata": {},
   "outputs": [],
   "source": [
    "# Set the plot time with forecast hours\n",
    "plot_time = date + timedelta(hours=0)\n",
    "\n",
    "# Set attributes for plotting contours\n",
    "cfill = FilledContourPlot()\n",
    "cfill.data = ds\n",
    "cfill.field = 'Absolute_vorticity_isobaric'\n",
    "cfill.level = 500 * units.hPa\n",
    "cfill.time = None\n",
    "cfill.contours = list(range(-40, 41, 2))\n",
    "cfill.colormap = 'PuOr_r'\n",
    "cfill.colorbar = 'horizontal'\n",
    "\n",
    "cntr2 = ContourPlot()\n",
    "cntr2.data = ds\n",
    "cntr2.field = 'Geopotential_height_isobaric'\n",
    "cntr2.level = 500 * units.hPa\n",
    "cntr2.time = None\n",
    "cntr2.contours = list(range(0, 10000, 60))\n",
    "cntr2.linecolor = 'black'\n",
    "cntr2.linestyle = 'solid'\n",
    "cntr2.clabels = True\n",
    "\n",
    "# Set the attributes for the map\n",
    "# and put the contours on the map\n",
    "panel = MapPanel()\n",
    "panel.area = [-125, -74, 20, 55]\n",
    "panel.projection = 'lcc'\n",
    "panel.layers = ['states', 'coastline', 'borders']\n",
    "panel.title = f'{cfill.level.m}-hPa Abs. Vorticity at {plot_time} by KHG'\n",
    "panel.plots = [cfill, cntr2]\n",
    "\n",
    "# Set the attributes for the panel\n",
    "# and put the panel in the figure\n",
    "pc = PanelContainer()\n",
    "pc.size = (15, 15)\n",
    "pc.panels = [panel]\n",
    "\n",
    "# Show the figure\n",
    "pc.show()"
   ]
  },
  {
   "cell_type": "markdown",
   "metadata": {},
   "source": [
    "## More Complex Calculations\n",
    "\n",
    "1. Do the calculation using MetPy (not too hard).\n",
    "2. Add it to the dataarray (a little more complicated).\n",
    "\n",
    "All MetPy Calculations can be found at https://unidata.github.io/MetPy/v1.0/api/generated/metpy.calc.html#module-metpy.calc\n",
    "\n",
    "Not all calculations work on grids, yet!\n",
    "\n",
    "To calculate wind speed: https://unidata.github.io/MetPy/v1.0/api/generated/metpy.calc.wind_speed.html#metpy.calc.wind_speed\n",
    "\n",
    "We can add a new variable based on a simialr one, then update the values based on the calculation. This is easy for wind speed as it is a variant on a single component of the wind."
   ]
  },
  {
   "cell_type": "code",
   "execution_count": null,
   "metadata": {},
   "outputs": [],
   "source": [
    "# Calculate Wind Speed\n",
    "wspd = mpcalc.wind_speed(ds['u-component_of_wind_isobaric'], ds['v-component_of_wind_isobaric'])"
   ]
  },
  {
   "cell_type": "code",
   "execution_count": null,
   "metadata": {},
   "outputs": [],
   "source": [
    "# Add it to dataset (ds) based on similar variable\n",
    "ds = ds.assign(wind_speed = ds['u-component_of_wind_isobaric'])\n",
    "\n",
    "# Update values it to dataset\n",
    "ds['wind_speed'].values = wspd.m"
   ]
  },
  {
   "cell_type": "code",
   "execution_count": null,
   "metadata": {},
   "outputs": [],
   "source": [
    "# Set attributes for plotting contours\n",
    "cfill = FilledContourPlot()\n",
    "cfill.data = ds\n",
    "cfill.field = 'wind_speed'\n",
    "cfill.level = 300 * units.hPa\n",
    "cfill.time = None\n",
    "cfill.contours = list(range(10, 101, 10))\n",
    "cfill.colormap = 'BuPu'\n",
    "cfill.colorbar = 'horizontal'\n",
    "\n",
    "cntr2 = ContourPlot()\n",
    "cntr2.data = ds\n",
    "cntr2.field = 'Geopotential_height_isobaric'\n",
    "cntr2.level = 300 * units.hPa\n",
    "cntr2.time = None\n",
    "cntr2.contours = list(range(0, 10000, 120))\n",
    "cntr2.linecolor = 'black'\n",
    "cntr2.linestyle = 'solid'\n",
    "cntr2.clabels = True\n",
    "\n",
    "# Set the attributes for the map\n",
    "# and put the contours on the map\n",
    "panel = MapPanel()\n",
    "panel.area = [-125, -74, 20, 55]\n",
    "panel.projection = 'lcc'\n",
    "panel.layers = ['states', 'coastline', 'borders']\n",
    "panel.title = f'{cfill.level.m}-hPa Heights and Wind Speed at {plot_time} by KHG'\n",
    "panel.plots = [cfill, cntr2]\n",
    "\n",
    "# Set the attributes for the panel\n",
    "# and put the panel in the figure\n",
    "pc = PanelContainer()\n",
    "pc.size = (15, 15)\n",
    "pc.panels = [panel]\n",
    "\n",
    "# Show the figure\n",
    "pc.show()"
   ]
  },
  {
   "cell_type": "code",
   "execution_count": null,
   "metadata": {},
   "outputs": [],
   "source": []
  }
 ],
 "metadata": {
  "kernelspec": {
   "display_name": "Python 3",
   "language": "python",
   "name": "python3"
  },
  "language_info": {
   "codemirror_mode": {
    "name": "ipython",
    "version": 3
   },
   "file_extension": ".py",
   "mimetype": "text/x-python",
   "name": "python",
   "nbconvert_exporter": "python",
   "pygments_lexer": "ipython3",
   "version": "3.8.2"
  }
 },
 "nbformat": 4,
 "nbformat_minor": 4
}
