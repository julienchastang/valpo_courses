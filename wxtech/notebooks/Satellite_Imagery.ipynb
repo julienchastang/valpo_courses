{
 "cells": [
  {
   "cell_type": "markdown",
   "metadata": {},
   "source": [
    "# Satellite Imagery\n",
    "\n",
    "To plot satellite imagery we can use data that we bring in through our local data feed. Satellite data are stored in ```/data/ldmdata/satellite``` for both GOES-16 and GOES-17. There are a couple of different sectors that we can view the data from, but the most common for synoptic-dynamic purposes would be the CONUS projection. Data are available every 5 min.\n",
    "\n",
    "For this plotting we are doing to use the declarative plotting syntax using Python and the MetPy module."
   ]
  },
  {
   "cell_type": "code",
   "execution_count": null,
   "metadata": {},
   "outputs": [],
   "source": [
    "from datetime import datetime\n",
    "\n",
    "import metpy.calc as mpcalc\n",
    "from metpy.plots import ImagePlot, ContourPlot, MapPanel, PanelContainer\n",
    "from metpy.units import units\n",
    "import numpy as np\n",
    "from siphon.catalog import TDSCatalog\n",
    "import xarray as xr"
   ]
  },
  {
   "cell_type": "code",
   "execution_count": null,
   "metadata": {},
   "outputs": [],
   "source": [
    "date = datetime(2020, 3, 2, 0)\n",
    "\n",
    "# Create variables for URL generation\n",
    "region = 'CONUS'\n",
    "channel = 9\n",
    "satellite = 'east'\n",
    "\n",
    "# We want to match something like:\n",
    "# https://thredds-test.unidata.ucar.edu/thredds/catalog/satellite/goes16/GOES16/Mesoscale-1/Channel08/20181113/catalog.html\n",
    "\n",
    "# Construct the data_url string\n",
    "data_url = (f'https://thredds.ucar.edu/thredds/catalog/satellite/goes/{satellite}/products/'\n",
    "            f'CloudAndMoistureImagery/{region}/Channel{channel:02d}/'\n",
    "            f'{date:%Y%m%d}/catalog.xml')\n",
    "\n",
    "cat = TDSCatalog(data_url)\n",
    "dataset = cat.datasets[1]\n",
    "\n",
    "# Open most recent file available\n",
    "ds = dataset.remote_access(use_xarray=True)\n",
    "\n",
    "# Apply a square root correction for visible imagery only\n",
    "#ds = ds.map(np.sqrt, keep_attrs=True)\n",
    "\n",
    "# Grab time from file and make into datetime object for plotting and later data access\n",
    "vtime = ds.time.values.astype('datetime64[ms]').astype('O')"
   ]
  },
  {
   "cell_type": "code",
   "execution_count": null,
   "metadata": {},
   "outputs": [],
   "source": [
    "# Declare the data we wish to plot\n",
    "img = ImagePlot()\n",
    "img.data = ds\n",
    "img.field = 'Sectorized_CMI'\n",
    "img.colormap = 'Greys'\n",
    "\n",
    "# Plot the data on a map\n",
    "panel = MapPanel()\n",
    "panel.layers = ['coastline', 'borders', 'states']\n",
    "panel.title = f\"{'GOES-16 WV Channel 9':<123}{f'Valid Time: {vtime} UTC':>123}\"\n",
    "panel.plots = [img]\n",
    "\n",
    "# Place the map on a figure\n",
    "pc = PanelContainer()\n",
    "pc.size = (20, 16)\n",
    "pc.panels = [panel]\n",
    "pc.show()"
   ]
  },
  {
   "cell_type": "code",
   "execution_count": null,
   "metadata": {},
   "outputs": [],
   "source": []
  }
 ],
 "metadata": {
  "kernelspec": {
   "display_name": "Python 3",
   "language": "python",
   "name": "python3"
  },
  "language_info": {
   "codemirror_mode": {
    "name": "ipython",
    "version": 3
   },
   "file_extension": ".py",
   "mimetype": "text/x-python",
   "name": "python",
   "nbconvert_exporter": "python",
   "pygments_lexer": "ipython3",
   "version": "3.8.2"
  }
 },
 "nbformat": 4,
 "nbformat_minor": 4
}
