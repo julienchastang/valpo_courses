{
 "cells": [
  {
   "cell_type": "markdown",
   "metadata": {},
   "source": [
    "# Surface Data and Plotting\n"
   ]
  },
  {
   "cell_type": "code",
   "execution_count": null,
   "metadata": {},
   "outputs": [],
   "source": [
    "from datetime import datetime, timedelta\n",
    "\n",
    "from metpy.io import metar\n",
    "from metpy.plots.declarative import *\n",
    "from metpy.units import units\n",
    "import pandas as pd"
   ]
  },
  {
   "cell_type": "markdown",
   "metadata": {},
   "source": [
    "## Read Data\n",
    "\n",
    "We bring in surface data that is in METAR format and store it for approximately two weeks in `/data/ldmdata/surface/sao` and the format of the filenames are `YYYYMMDDHH_sao.wmo` where `YYYY` is the year, `MM` is the month, `DD` is the day, and `HH` is the hour. Or there are pre-decoded files located in `/data/ldmdata/surface/csv` and can be read in using the Pandas module."
   ]
  },
  {
   "cell_type": "code",
   "execution_count": null,
   "metadata": {},
   "outputs": [],
   "source": [
    "df = metar.parse_metar_file('../../data/2020010600_sao.wmo', year=2020, month=1)\n",
    "df['tmpf'] = (df.air_temperature.values * units.degC).to('degF')\n",
    "df['dwpf'] = (df.dew_point_temperature.values * units.degC).to('degF')"
   ]
  },
  {
   "cell_type": "code",
   "execution_count": null,
   "metadata": {},
   "outputs": [],
   "source": [
    "df.units['air_temperature']"
   ]
  },
  {
   "cell_type": "markdown",
   "metadata": {},
   "source": [
    "## Plot Data"
   ]
  },
  {
   "cell_type": "code",
   "execution_count": null,
   "metadata": {},
   "outputs": [],
   "source": [
    "mslp_formatter = lambda v: format(v*10, '.0f')[2:]\n",
    "\n",
    "# Plot desired data\n",
    "obs = PlotObs()\n",
    "obs.data = df\n",
    "obs.time = datetime(2020, 1, 6, 0)\n",
    "obs.time_window = timedelta(minutes=15)\n",
    "obs.level = None\n",
    "obs.fields = ['cloud_coverage', 'tmpf', 'dwpf',\n",
    "              'air_pressure_at_sea_level', 'present_weather']\n",
    "obs.locations = ['C', 'NW', 'SW', 'NE', 'W']\n",
    "obs.formats = ['sky_cover', None, None, mslp_formatter, 'current_weather']\n",
    "obs.reduce_points = 0.75\n",
    "obs.vector_field = ['eastward_wind', 'northward_wind']\n",
    "\n",
    "# Panel for plot with Map features\n",
    "panel = MapPanel()\n",
    "panel.layout = (1, 1, 1)\n",
    "panel.projection = 'lcc'\n",
    "panel.area = 'in'\n",
    "panel.layers = ['states']\n",
    "panel.plots = [obs]\n",
    "\n",
    "# Bringing it all together\n",
    "pc = PanelContainer()\n",
    "pc.size = (10, 10)\n",
    "pc.panels = [panel]\n",
    "\n",
    "pc.show()"
   ]
  },
  {
   "cell_type": "code",
   "execution_count": null,
   "metadata": {},
   "outputs": [],
   "source": []
  }
 ],
 "metadata": {
  "kernelspec": {
   "display_name": "Python 3",
   "language": "python",
   "name": "python3"
  },
  "language_info": {
   "codemirror_mode": {
    "name": "ipython",
    "version": 3
   },
   "file_extension": ".py",
   "mimetype": "text/x-python",
   "name": "python",
   "nbconvert_exporter": "python",
   "pygments_lexer": "ipython3",
   "version": "3.8.2"
  }
 },
 "nbformat": 4,
 "nbformat_minor": 4
}
