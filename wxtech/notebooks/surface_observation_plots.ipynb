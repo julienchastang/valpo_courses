{
 "cells": [
  {
   "cell_type": "markdown",
   "metadata": {},
   "source": [
    "# Surface Data and Plotting\n"
   ]
  },
  {
   "cell_type": "code",
   "execution_count": 1,
   "metadata": {},
   "outputs": [],
   "source": [
    "from datetime import datetime, timedelta\n",
    "\n",
    "from metpy.io import metar\n",
    "from metpy.plots.declarative import *\n",
    "from metpy.units import units\n",
    "import pandas as pd"
   ]
  },
  {
   "cell_type": "markdown",
   "metadata": {},
   "source": [
    "## Read Data\n",
    "\n",
    "We bring in surface data that is in METAR format and store it for approximately two weeks in `/data/ldmdata/surface/sao` and the format of the filenames are `YYYYMMDDHH_sao.wmo` where `YYYY` is the year, `MM` is the month, `DD` is the day, and `HH` is the hour. Or there are pre-decoded files located in `/data/ldmdata/surface/csv` and can be read in using the Pandas module."
   ]
  },
  {
   "cell_type": "code",
   "execution_count": 2,
   "metadata": {},
   "outputs": [
    {
     "name": "stderr",
     "output_type": "stream",
     "text": [
      "/opt/conda/envs/valpo-spring-2020/lib/python3.8/site-packages/IPython/core/interactiveshell.py:3062: DtypeWarning: Columns (9) have mixed types.Specify dtype option on import or set low_memory=False.\n",
      "  has_raised = await self.run_ast_nodes(code_ast.body, cell_name,\n"
     ]
    }
   ],
   "source": [
    "date = datetime(2015, 5, 1, 0)\n",
    "\n",
    "# Read with pandas, note differences from METAR files\n",
    "df = pd.read_csv(f'http://bergeron.valpo.edu/surface_data/{date:%Y}/{date:%Y%m%d}_metar.csv',\n",
    "                 parse_dates=['date_time'], na_values=[-9999])\n",
    "#df.skyc = df.skyc.astype('int')"
   ]
  },
  {
   "cell_type": "code",
   "execution_count": null,
   "metadata": {},
   "outputs": [],
   "source": [
    "df = metar.parse_metar_file('../../data/2019122618_sao.wmo', year=2019, month=12) "
   ]
  },
  {
   "cell_type": "code",
   "execution_count": 3,
   "metadata": {},
   "outputs": [
    {
     "data": {
      "text/plain": [
       "0        2015-05-30 23:53:00\n",
       "1        2015-05-30 23:35:00\n",
       "2        2015-05-30 23:30:00\n",
       "3        2015-05-30 23:30:00\n",
       "4        2015-05-30 23:35:00\n",
       "                 ...        \n",
       "188155   2015-05-01 23:29:00\n",
       "188156   2015-05-01 23:00:00\n",
       "188157   2015-05-01 23:00:00\n",
       "188158   2015-05-01 23:00:00\n",
       "188159   2015-05-01 23:00:00\n",
       "Name: date_time, Length: 188160, dtype: datetime64[ns]"
      ]
     },
     "execution_count": 3,
     "metadata": {},
     "output_type": "execute_result"
    }
   ],
   "source": [
    "df.date_time"
   ]
  },
  {
   "cell_type": "markdown",
   "metadata": {},
   "source": [
    "### What data is in the file?\n",
    "\n",
    "Use some common Python to see what variables could be plotted. This is done by listing the `keys` that are present in the dataset `df`."
   ]
  },
  {
   "cell_type": "code",
   "execution_count": 4,
   "metadata": {},
   "outputs": [
    {
     "data": {
      "text/plain": [
       "['station_id',\n",
       " 'latitude',\n",
       " 'longitude',\n",
       " 'elevation',\n",
       " 'date_time',\n",
       " 'wind_direction',\n",
       " 'wind_speed',\n",
       " 'current_wx1',\n",
       " 'current_wx2',\n",
       " 'current_wx3',\n",
       " 'low_cloud_type',\n",
       " 'low_cloud_level',\n",
       " 'medium_cloud_type',\n",
       " 'medium_cloud_level',\n",
       " 'high_cloud_type',\n",
       " 'high_cloud_level',\n",
       " 'highest_cloud_type',\n",
       " 'highest_cloud_level',\n",
       " 'cloud_coverage',\n",
       " 'air_temperature',\n",
       " 'dew_point_temperature',\n",
       " 'altimeter',\n",
       " 'present_weather',\n",
       " 'past_weather',\n",
       " 'past_weather2',\n",
       " 'air_pressure_at_sea_level',\n",
       " 'eastward_wind',\n",
       " 'northward_wind',\n",
       " 'index']"
      ]
     },
     "execution_count": 4,
     "metadata": {},
     "output_type": "execute_result"
    }
   ],
   "source": [
    "list(df.keys())"
   ]
  },
  {
   "cell_type": "markdown",
   "metadata": {},
   "source": [
    "Additionally, we can determine what the units are of the various variables by inspecting the dataframe for its `units`."
   ]
  },
  {
   "cell_type": "code",
   "execution_count": null,
   "metadata": {},
   "outputs": [],
   "source": [
    "df.units"
   ]
  },
  {
   "cell_type": "code",
   "execution_count": null,
   "metadata": {},
   "outputs": [],
   "source": [
    "df.date_time"
   ]
  },
  {
   "cell_type": "code",
   "execution_count": null,
   "metadata": {},
   "outputs": [],
   "source": [
    "df.cloud_coverage"
   ]
  },
  {
   "cell_type": "markdown",
   "metadata": {},
   "source": [
    "## Plot Data"
   ]
  },
  {
   "cell_type": "code",
   "execution_count": null,
   "metadata": {},
   "outputs": [],
   "source": [
    "# Plot desired data\n",
    "obs = PlotObs()\n",
    "obs.data = df\n",
    "obs.time = datetime(2019, 12, 26, 18)\n",
    "obs.time_window = timedelta(minutes=15)\n",
    "obs.level = None\n",
    "obs.fields = ['air_temperature']\n",
    "\n",
    "# Panel for plot with Map features\n",
    "panel = MapPanel()\n",
    "panel.layout = (1, 1, 1)\n",
    "panel.projection = 'lcc'\n",
    "panel.area = 'in'\n",
    "panel.layers = ['states']\n",
    "panel.plots = [obs]\n",
    "\n",
    "# Bringing it all together\n",
    "pc = PanelContainer()\n",
    "pc.size = (10, 10)\n",
    "pc.panels = [panel]\n",
    "\n",
    "pc.show()"
   ]
  },
  {
   "cell_type": "markdown",
   "metadata": {},
   "source": [
    "## Plotting Temperature in Fahrenheit\n",
    "\n",
    "* Need to convert temperature from Celisus (standard for METAR) to Fahrenheit (standard U.S. surface plotting)\n",
    "\n",
    "We can use the units module from MetPy to do a quick conversion and store the result in our dataframe (df) to use for plotting purposes.\n",
    "\n",
    "To store a new variable in the dataframe we use the following format:\n",
    "\n",
    "`df['variablename'] = new_variable`"
   ]
  },
  {
   "cell_type": "code",
   "execution_count": null,
   "metadata": {},
   "outputs": [],
   "source": [
    "df['tmpf'] = (df.air_temperature.values * units.degC).to('degF')"
   ]
  },
  {
   "cell_type": "markdown",
   "metadata": {},
   "source": [
    "### Plot the new variable"
   ]
  },
  {
   "cell_type": "code",
   "execution_count": null,
   "metadata": {},
   "outputs": [],
   "source": [
    "# Plot desired data\n",
    "obs = PlotObs()\n",
    "obs.data = df\n",
    "obs.time = datetime(2019, 12, 26, 18)\n",
    "obs.time_window = timedelta(minutes=15)\n",
    "obs.level = None\n",
    "obs.fields = ['tmpf']\n",
    "\n",
    "# Panel for plot with Map features\n",
    "panel = MapPanel()\n",
    "panel.layout = (1, 1, 1)\n",
    "panel.projection = 'lcc'\n",
    "panel.area = 'in'\n",
    "panel.layers = ['states']\n",
    "panel.plots = [obs]\n",
    "\n",
    "# Bringing it all together\n",
    "pc = PanelContainer()\n",
    "pc.size = (10, 10)\n",
    "pc.panels = [panel]\n",
    "\n",
    "pc.show()"
   ]
  },
  {
   "cell_type": "code",
   "execution_count": null,
   "metadata": {},
   "outputs": [],
   "source": []
  }
 ],
 "metadata": {
  "kernelspec": {
   "display_name": "Python [conda env:valpo-spring-2020]",
   "language": "python",
   "name": "conda-env-valpo-spring-2020-py"
  },
  "language_info": {
   "codemirror_mode": {
    "name": "ipython",
    "version": 3
   },
   "file_extension": ".py",
   "mimetype": "text/x-python",
   "name": "python",
   "nbconvert_exporter": "python",
   "pygments_lexer": "ipython3",
   "version": "3.8.2"
  }
 },
 "nbformat": 4,
 "nbformat_minor": 4
}
