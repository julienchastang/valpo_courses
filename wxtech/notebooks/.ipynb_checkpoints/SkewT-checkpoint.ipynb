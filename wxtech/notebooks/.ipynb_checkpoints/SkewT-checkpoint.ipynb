{
 "cells": [
  {
   "cell_type": "markdown",
   "metadata": {},
   "source": [
    "# Visulalizing and Calculating Parameters on a Skew-T\n",
    "\n",
    "A powerful tool is being developed that will have the same functionality as GEMPAK, but be done in the Python programming langauage. One example of this is the ability to plot Skew-Ts using the Python module [MetPy](https://unidata.github.io/MetPy/latest/index.html). However, there is greatly functionality than that contained in GEMPAK, as you can use MetPy to calculate a whole host of variables from the data plotted on the Skew-T (e.g., CAPE, CIN, LCL, LFC, EL). This notebook is a brief introduction to how that can be done.\n",
    "\n",
    "To plot a skew-T, you need to specify the date and time (in UTC) and choose an upper-air station location. The locations of current sounding sites can be found at http://weather.rap.ucar.edu/upper"
   ]
  },
  {
   "cell_type": "code",
   "execution_count": null,
   "metadata": {},
   "outputs": [],
   "source": [
    "from datetime import datetime\n",
    "\n",
    "import matplotlib.pyplot as plt\n",
    "import metpy.calc as mpcalc\n",
    "from metpy.plots import SkewT\n",
    "from metpy.units import units, pandas_dataframe_to_unit_arrays\n",
    "import numpy as np\n",
    "from siphon.simplewebservice.wyoming import WyomingUpperAir"
   ]
  },
  {
   "cell_type": "code",
   "execution_count": null,
   "metadata": {},
   "outputs": [],
   "source": [
    "# Set date that you want\n",
    "# Data goes back to the 1970's\n",
    "date = datetime(2007, 5, 4, 18)\n",
    "\n",
    "# Set station ID, there are different stations back in the day\n",
    "# Current station IDs found at http://weather.rap.ucar.edu/upper\n",
    "station = 'DDC'\n",
    "\n",
    "# Use Siphon module to grab data from remote server\n",
    "df = WyomingUpperAir.request_data(date, station)"
   ]
  },
  {
   "cell_type": "code",
   "execution_count": null,
   "metadata": {},
   "outputs": [],
   "source": [
    "# Create dictionary of unit arrays\n",
    "data = pandas_dataframe_to_unit_arrays(df)\n",
    "\n",
    "# Isolate united arrays from dictionary to individual variables\n",
    "p = data['pressure']\n",
    "T = data['temperature']\n",
    "Td = data['dewpoint']\n",
    "u = data['u_wind']\n",
    "v = data['v_wind']"
   ]
  },
  {
   "cell_type": "code",
   "execution_count": null,
   "metadata": {},
   "outputs": [],
   "source": [
    "# Plot a skew-T image\n",
    "\n",
    "fig = plt.figure(figsize=(10, 10))\n",
    "\n",
    "skew = SkewT(fig)\n",
    "\n",
    "# Plot the data using normal plotting functions, in this case using\n",
    "# log scaling in Y, as dictated by the typical meteorological plot\n",
    "skew.plot(p, T, 'r')\n",
    "skew.plot(p, Td, 'g')\n",
    "\n",
    "# Plot wind barbs, skipping every other one\n",
    "skew.plot_barbs(p[::2], u[::2], v[::2], y_clip_radius=0.03)\n",
    "\n",
    "# Set sensible axis limits\n",
    "skew.ax.set_ylim(1000, 100)\n",
    "skew.ax.set_xlim(-40, 50)\n",
    "\n",
    "# Add the relevant special lines\n",
    "skew.plot_dry_adiabats(t0=np.arange(233,555,10)*units.K)\n",
    "skew.plot_moist_adiabats(color='tab:green')\n",
    "skew.plot_mixing_lines(color='tab:blue')\n",
    "\n",
    "# Plot some titles\n",
    "plt.title('Station: K{}'.format(station), loc='left')\n",
    "plt.title('Skew-T/Log-p', loc='center')\n",
    "plt.title('{} UTC'.format(date), loc='right')\n",
    "\n",
    "# Show the plot\n",
    "# plt.savefig('skewt_image.png', dpi=150)\n",
    "plt.show()"
   ]
  },
  {
   "cell_type": "markdown",
   "metadata": {},
   "source": [
    "## Calculations of Sounding Parameters\n",
    "\n",
    "Once we have our data, we can calculate any of the skew-T variables we desire, such as LCL using the functions available in MetPy (https://unidata.github.io/MetPy/latest/api/generated/metpy.calc.html#soundings)."
   ]
  },
  {
   "cell_type": "code",
   "execution_count": null,
   "metadata": {},
   "outputs": [],
   "source": [
    "# Calculate LCL pressure and temperature\n",
    "# Note: since lcl function returns two values, we can have\n",
    "# two variables to the left of the equal sign\n",
    "\n",
    "lcl_pressure, lcl_temperature = mpcalc.lcl(p[0], T[0], Td[0])\n",
    "print('LCL: {:.2f}'.format(lcl_pressure))"
   ]
  },
  {
   "cell_type": "code",
   "execution_count": null,
   "metadata": {},
   "outputs": [],
   "source": [
    "# Calculate full surface parcel profile and add to plot as black line\n",
    "prof = mpcalc.parcel_profile(p, T[0], Td[0]).to('degC')\n",
    "\n",
    "# Calculate the CAPE and CIN of the profile\n",
    "cape, cin = mpcalc.cape_cin(p, T, Td, prof)\n",
    "\n",
    "print('CAPE: {:.2f}'.format(cape))\n",
    "print('CIN: {:.2f}'.format(cin))"
   ]
  },
  {
   "cell_type": "code",
   "execution_count": null,
   "metadata": {},
   "outputs": [],
   "source": [
    "fig = plt.figure(figsize=(10, 10))\n",
    "\n",
    "skew = SkewT(fig)\n",
    "\n",
    "# Plot the data using normal plotting functions, in this case using\n",
    "# log scaling in Y, as dictated by the typical meteorological plot\n",
    "skew.plot(p, T, 'r')\n",
    "skew.plot(p, Td, 'g')\n",
    "\n",
    "# Plot barbs skipping to every other barb\n",
    "skew.plot_barbs(p[::2], u[::2], v[::2], y_clip_radius=0.03)\n",
    "\n",
    "# Set sensible axis limits\n",
    "skew.ax.set_ylim(1000, 100)\n",
    "skew.ax.set_xlim(-40, 50)\n",
    "\n",
    "# Plot the skew-T parcel temperature profile\n",
    "skew.plot(p, prof, 'k', linewidth=2)\n",
    "\n",
    "# Plot a line marker at the LCL level\n",
    "skew.plot(lcl_pressure, lcl_temperature, 'k_', markersize=24, \n",
    "          markeredgewidth=3, markerfacecolor='black')\n",
    "\n",
    "# Add the relevant special lines\n",
    "skew.plot_dry_adiabats(t0=np.arange(233,555,10)*units.K)\n",
    "skew.plot_moist_adiabats(color='tab:green')\n",
    "skew.plot_mixing_lines(color='tab:blue')\n",
    "\n",
    "# Plot some titles\n",
    "plt.title('Station: K{}'.format(station), loc='left')\n",
    "plt.title('Skew-T/Log-p', loc='center')\n",
    "plt.title('{} UTC'.format(date), loc='right')\n",
    "\n",
    "# Show the plot\n",
    "plt.show()\n",
    "\n"
   ]
  },
  {
   "cell_type": "markdown",
   "metadata": {},
   "source": [
    "## Reading Local Data\n",
    "\n",
    "Our radiosonde launch system provides data in a number of formats. At the top of this notebook there is a function that is set up to ready the SHARPPY ready file format that is available on our sounding page at http://bergeron.valpo.edu/soundings/. To use this data, select the appropriate sounding from the drop down menus near the top of the page, then click on the \"SharpPy Ready File\", this will open a new window, copy and past the full web address into the read function below."
   ]
  },
  {
   "cell_type": "code",
   "execution_count": null,
   "metadata": {},
   "outputs": [],
   "source": [
    "def read_SHARPPY(filename):\n",
    "    import pandas as pd\n",
    "\n",
    "    df = pd.read_csv(filename,\n",
    "                     skiprows=6, names=['pressure','height','temperature','dewpoint','direction','speed'], skipfooter=1,\n",
    "                     engine='python')\n",
    "    df['u_wind'], df['v_wind'] = mpcalc.wind_components(df['speed'].values * units.knots,\n",
    "                                                        df['direction'].values * units.degrees)\n",
    "\n",
    "    df.units = dict(pressure='hPa', height='meter', temperature='degC', dewpoint='degC',\n",
    "                    direction='degrees', speed='knot', u_wind='knot', v_wind='knot')\n",
    "    return df"
   ]
  },
  {
   "cell_type": "code",
   "execution_count": null,
   "metadata": {},
   "outputs": [],
   "source": [
    "# Set station and date/time for plotting purposes\n",
    "station = 'VUM'\n",
    "date = datetime(2019, 3, 5, 10, 57)\n",
    "\n",
    "# Get back similar dataframe to what you get from the Wyoming archive\n",
    "df2 = read_SHARPPY('http://bergeron.valpo.edu/soundings/launches/20190305_01/20190305_01_SHARPPY.txt')\n",
    "\n",
    "# Get united arrays from our dataframe\n",
    "data2 = pandas_dataframe_to_unit_arrays(df2)\n",
    "\n",
    "# Isolate united arrays for calculation and plotting\n",
    "p = data2['pressure']\n",
    "T = data2['temperature']\n",
    "Td = data2['dewpoint']\n",
    "u = data2['u_wind']\n",
    "v = data2['v_wind']"
   ]
  },
  {
   "cell_type": "markdown",
   "metadata": {},
   "source": [
    "Make the skew-T Plot"
   ]
  },
  {
   "cell_type": "code",
   "execution_count": null,
   "metadata": {},
   "outputs": [],
   "source": [
    "fig = plt.figure(figsize=(10, 10))\n",
    "\n",
    "skew = SkewT(fig)\n",
    "\n",
    "# Plot the data using normal plotting functions, in this case using\n",
    "# log scaling in Y, as dictated by the typical meteorological plot\n",
    "skew.plot(p, T, 'r')\n",
    "skew.plot(p, Td, 'g')\n",
    "\n",
    "# Create a slice variable to help reduce the total\n",
    "# number of wind barbs\n",
    "wind_slice = slice(None, None, 15)\n",
    "skew.plot_barbs(p[wind_slice], u[wind_slice], v[wind_slice], y_clip_radius=0.03)\n",
    "\n",
    "# Set sensible axis limits\n",
    "skew.ax.set_ylim(1000, 100)\n",
    "skew.ax.set_xlim(-40, 50)\n",
    "\n",
    "# Add the relevant special lines\n",
    "skew.plot_dry_adiabats(t0=np.arange(233,555,10)*units.K)\n",
    "skew.plot_moist_adiabats(color='tab:green')\n",
    "skew.plot_mixing_lines(color='tab:blue')\n",
    "\n",
    "# Plot some titles\n",
    "plt.title('Station: K{}'.format(station), loc='left')\n",
    "plt.title('Skew-T/Log-p', loc='center')\n",
    "plt.title('{} UTC'.format(date), loc='right')\n",
    "\n",
    "# Show the plot\n",
    "plt.show()"
   ]
  },
  {
   "cell_type": "code",
   "execution_count": null,
   "metadata": {},
   "outputs": [],
   "source": []
  }
 ],
 "metadata": {
  "kernelspec": {
   "display_name": "Python 3",
   "language": "python",
   "name": "python3"
  },
  "language_info": {
   "codemirror_mode": {
    "name": "ipython",
    "version": 3
   },
   "file_extension": ".py",
   "mimetype": "text/x-python",
   "name": "python",
   "nbconvert_exporter": "python",
   "pygments_lexer": "ipython3",
   "version": "3.8.2"
  }
 },
 "nbformat": 4,
 "nbformat_minor": 4
}
